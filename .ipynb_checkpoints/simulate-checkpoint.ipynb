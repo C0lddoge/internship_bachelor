{
 "cells": [
  {
   "cell_type": "markdown",
   "metadata": {},
   "source": [
    "# Monte Carlo & Hard disks\n",
    "\n",
    "In this worksheet we will consider a 2D system composed of $N$ *hard disks* enclosed in a square cell of size $L = 10\\sigma$, where $\\sigma$ is an arbitraty unit of length used in the simulation core.\n",
    "The system has a fixed volume (or rather area), temperature, and the number of particles, hence we will work in the formalism of canonical ensemble.\n",
    "\n",
    "An alternative way of looking at a hard disk, is to describe it as a point particle described by a parameter $d = 1 \\sigma$, which can be perceived as a diameter of the disk. \n",
    "Two of such point particles at distance $r$ interact with the interaction potential, $U(r)$: \n",
    "\n",
    "$U(r) = +\\infty\\ $ for $\\ r < d \\quad$ and $\\quad U(r) = 0\\ $ for $\\ r \\geq d$,\n",
    "\n",
    "which is equivalent to saying, that disks can not overlap, but otherwise they are free to explore the configuration space.\n",
    "Moreover, we know that the probability of realization of a given state $(\\textbf{r}_1, \\textbf{r}_2, \\dots, \\textbf{r}_N)$ is proportional to the Boltzmann factor $\\sim \\exp(-\\beta U(\\textbf{r}_1, \\textbf{r}_2, \\dots, \\textbf{r}_N))$.\n",
    "Let us assume that the potential energy can be expressed as a sum of pair potentials:\n",
    "\n",
    "$U(\\textbf{r}_1, \\textbf{r}_2, \\dots, \\textbf{r}_N) = \\sum_{ij}' U(\\textbf{r}_i,\\textbf{r}_j) = \\sum_{ij}' U(r_{ij}).$\n",
    "\n",
    "Now we see, that the if there is any overlap between any two disks, the corresponding Boltzmann factor is $0$, hence such a state can never happen.\n",
    "Only states with no overlap have non-zero probability of realization, and this probability is the same for all of them, since energy is equal for all of them.\n",
    "\n",
    "# Trial moves\n",
    "\n",
    "In order to carry out a Metropolis Monte Carlo sampling, we first need a prescription to generate trial configurations, which will be then rejected or accepted.\n",
    "\n",
    "A very straightforward way would be just to place $N$ particles in the system independently, drawing their coordinates from the uniform distribution - we will call this approach *static scheme*.\n",
    "The downside of this approach, however, is that if $N$ is large, placing the particles completely randomly will almost inevitably result in overlaps, which will be rejected by Metropolis algorithm (the probability of their realization is zero).\n",
    "\n",
    "For the above reason, we also propose *dynamic scheme* with the following idea: if we already have a configuration with no overlaps, it should be easy to generate a new one just by slightly disturbing the current one.\n",
    "In this dynamic scheme, we will randomly choose just a single particle and move it with a small random displacement to create a trial to be rejected or accepted by the Metropolis algorithm."
   ]
  },
  {
   "cell_type": "code",
   "execution_count": null,
   "metadata": {},
   "outputs": [],
   "source": [
    "import time # timing the simulation\n",
    "import numpy as np # numerical operations\n",
    "import matplotlib.pyplot as plt # visualization\n",
    "from IPython.display import clear_output # animations\n",
    "from HardDisks import * # simulation core"
   ]
  },
  {
   "cell_type": "code",
   "execution_count": null,
   "metadata": {},
   "outputs": [],
   "source": [
    "# parameters\n",
    "N_part = 10 # number of particles, 1 < N < 81\n",
    "max_displacement = 0.10 # Monte Carlo displacement 0 < x < 10     \n",
    "mc_move = mc_move_static # trial move schemes: 'mc_move_dynamic' or 'mc_move_static'\n",
    "\n",
    "N_moves = 5000 # number of MC steps\n",
    "stride_vis = 100 # period of visualization"
   ]
  },
  {
   "cell_type": "code",
   "execution_count": null,
   "metadata": {},
   "outputs": [],
   "source": [
    "t0 = time.perf_counter()\n",
    "# initialize the lattice\n",
    "x_grid = np.linspace(0, L_box, num = int(L_box))[:(int(L_box)-1)]\n",
    "y_grid = np.copy(x_grid)\n",
    "X_g, Y_g = np.meshgrid(x_grid, y_grid)\n",
    "# now take the N_part points from there\n",
    "xy = np.array([X_g.flatten(),Y_g.flatten()]).T[:N_part,:]\n",
    "accepted = 0\n",
    "\n",
    "# loop over all steps\n",
    "for step in range(N_moves + 1):\n",
    "    flag, xy = mc_move(xy, L_box, N_part, disk_d, max_displacement) # make a move\n",
    "    accepted += flag # update the buffer for the acceptance rate \n",
    "    \n",
    "    # visualize\n",
    "    if (step % stride_vis == 0):\n",
    "        clear_output(wait=True)\n",
    "        plt.figure(figsize = (6,6))\n",
    "        plt.xlim(0,L_box)\n",
    "        plt.ylim(0,L_box)\n",
    "        plt.xlabel('x')\n",
    "        plt.ylabel('y')\n",
    "        plt.plot(xy[:,0], xy[:,1], linewidth = 0, marker = 'o', markersize = 32)\n",
    "        plt.show()\n",
    "        print('\\rstep {:d} out of {:d} ({:.2f}%)'.format(step, N_moves, step / N_moves*100 ), end = '', flush = True)\n",
    "        \n",
    "print()\n",
    "print('accepted: {:d}'.format(accepted))\n",
    "print('rejected: {:d}'.format(N_moves - accepted))\n",
    "print('acceptance rate: {:.3f}'.format(accepted / N_moves))\n",
    "t = int(time.perf_counter() - t0)\n",
    "print('walltime: {:d} min : {:d} s'.format(t // 60, t % 60))"
   ]
  },
  {
   "cell_type": "code",
   "execution_count": null,
   "metadata": {},
   "outputs": [],
   "source": []
  },
  {
   "cell_type": "markdown",
   "metadata": {},
   "source": [
    "## Tasks\n",
    "1. use the `static` scheme for $N \\in \\{5, 10, 50\\}$ and compare the acceptance rates. Is the `static` scheme more efficient for dense or dilute systems? In a proper Monte Carlo simulation, the acceptance rate should be neither too low nor too high - why?\n",
    "1. use the `dynamic` scheme for $N \\in \\{10, 70\\}$ with different maximal displacement $x \\in \\{ 0.1, 1.0, 5.0\\}$. Visually compare how does the \"memory\" of the system depend on the maximal displacement. Try to plot the acceptance rate as a function of maximal displacement for each of $N$."
   ]
  }
 ],
 "metadata": {
  "kernelspec": {
   "display_name": "Python 3",
   "language": "python",
   "name": "python3"
  },
  "language_info": {
   "codemirror_mode": {
    "name": "ipython",
    "version": 3
   },
   "file_extension": ".py",
   "mimetype": "text/x-python",
   "name": "python",
   "nbconvert_exporter": "python",
   "pygments_lexer": "ipython3",
   "version": "3.8.8"
  }
 },
 "nbformat": 4,
 "nbformat_minor": 4
}
